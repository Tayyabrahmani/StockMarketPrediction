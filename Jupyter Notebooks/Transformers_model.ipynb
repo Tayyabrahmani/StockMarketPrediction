{
 "cells": [
  {
   "cell_type": "code",
   "execution_count": null,
   "id": "f68682cd",
   "metadata": {},
   "outputs": [],
   "source": [
    "import torch\n",
    "import torch.nn as nn\n",
    "import torch.optim as optim\n",
    "import numpy as np\n",
    "import pandas as pd\n",
    "from sklearn.preprocessing import StandardScaler\n",
    "from sklearn.model_selection import train_test_split"
   ]
  },
  {
   "cell_type": "code",
   "execution_count": null,
   "id": "5b1adec2",
   "metadata": {
    "code_folding": [
     8
    ]
   },
   "outputs": [],
   "source": [
    "# Define the Transformer model\n",
    "class TransformerModel(nn.Module):\n",
    "    def __init__(self, input_dim, output_dim, num_layers, hidden_dim, n_heads, dropout_prob):\n",
    "        super(TransformerModel, self).__init__()\n",
    "        self.transformer_encoder_layer = nn.TransformerEncoderLayer(d_model=input_dim, nhead=n_heads)\n",
    "        self.transformer_encoder = nn.TransformerEncoder(self.transformer_encoder_layer, num_layers=num_layers)\n",
    "        self.linear = nn.Linear(input_dim, output_dim)\n",
    "\n",
    "    def forward(self, src):\n",
    "        src = self.transformer_encoder(src)\n",
    "        output = self.linear(src)\n",
    "        return output\n",
    "\n",
    "# Preprocess data\n",
    "def preprocess_data(data, seq_length):\n",
    "    X, y = [], []\n",
    "    for i in range(len(data) - seq_length):\n",
    "        X.append(data[i:i+seq_length])\n",
    "        y.append(data[i+seq_length])\n",
    "    return np.array(X), np.array(y)"
   ]
  },
  {
   "cell_type": "code",
   "execution_count": null,
   "id": "62a67356",
   "metadata": {},
   "outputs": [],
   "source": []
  },
  {
   "cell_type": "code",
   "execution_count": null,
   "id": "40d33746",
   "metadata": {},
   "outputs": [],
   "source": [
    "# Load data\n",
    "# Assuming you have stock market data loaded into a pandas DataFrame with 'Close' prices\n",
    "# Replace 'your_data.csv' with your actual data file\n",
    "data = pd.read_csv('your_data.csv')\n",
    "data = data['Close'].values.reshape(-1, 1)  # Reshape data to 2D array\n",
    "scaler = StandardScaler()\n",
    "data_normalized = scaler.fit_transform(data)\n",
    "\n",
    "# Hyperparameters\n",
    "input_dim = 1  # Dimensionality of input sequence\n",
    "output_dim = 1  # Dimensionality of output sequence\n",
    "seq_length = 30  # Length of input sequence\n",
    "num_layers = 2  # Number of transformer layers\n",
    "hidden_dim = 64  # Hidden dimension of transformer model\n",
    "n_heads = 4  # Number of attention heads\n",
    "dropout_prob = 0.1  # Dropout probability\n",
    "\n",
    "# Preprocess data\n",
    "X, y = preprocess_data(data_normalized, seq_length)\n",
    "\n",
    "# Split data into train and test sets\n",
    "X_train, X_test, y_train, y_test = train_test_split(X, y, test_size=0.2, shuffle=False)\n",
    "\n",
    "# Convert data to PyTorch tensors\n",
    "X_train_tensor = torch.Tensor(X_train).unsqueeze(-1)  # Add input channel dimension\n",
    "y_train_tensor = torch.Tensor(y_train)\n",
    "X_test_tensor = torch.Tensor(X_test).unsqueeze(-1)  # Add input channel dimension\n",
    "y_test_tensor = torch.Tensor(y_test)\n",
    "\n",
    "# Instantiate the model\n",
    "model = TransformerModel(input_dim=input_dim, output_dim=output_dim, num_layers=num_layers,\n",
    "                         hidden_dim=hidden_dim, n_heads=n_heads, dropout_prob=dropout_prob)\n",
    "\n",
    "# Define loss function and optimizer\n",
    "criterion = nn.MSELoss()\n",
    "optimizer = optim.Adam(model.parameters(), lr=0.001)\n",
    "\n",
    "# Training loop\n",
    "num_epochs = 50\n",
    "for epoch in range(num_epochs):\n",
    "    model.train()\n",
    "    optimizer.zero_grad()\n",
    "    output = model(X_train_tensor)\n",
    "    loss = criterion(output.squeeze(), y_train_tensor)\n",
    "    loss.backward()\n",
    "    optimizer.step()\n",
    "    \n",
    "    if (epoch+1) % 10 == 0:\n",
    "        print(f'Epoch [{epoch+1}/{num_epochs}], Loss: {loss.item():.4f}')\n",
    "\n",
    "# Evaluation\n",
    "model.eval()\n",
    "with torch.no_grad():\n",
    "    y_pred = model(X_test_tensor)\n",
    "\n",
    "# Inverse transform predictions and actual values\n",
    "y_pred = scaler.inverse_transform(y_pred.squeeze().numpy())\n",
    "y_test_unscaled = scaler.inverse_transform(y_test)\n",
    "\n",
    "# Calculate evaluation metrics\n",
    "# For example, you can use mean absolute error (MAE) or mean squared error (MSE)\n",
    "mae = np.mean(np.abs(y_pred - y_test_unscaled))\n",
    "mse = np.mean((y_pred - y_test_unscaled) ** 2)\n",
    "print(f'MAE: {mae:.2f}, MSE: {mse:.2f}')"
   ]
  }
 ],
 "metadata": {
  "kernelspec": {
   "display_name": "Python 3 (ipykernel)",
   "language": "python",
   "name": "python3"
  },
  "language_info": {
   "codemirror_mode": {
    "name": "ipython",
    "version": 3
   },
   "file_extension": ".py",
   "mimetype": "text/x-python",
   "name": "python",
   "nbconvert_exporter": "python",
   "pygments_lexer": "ipython3",
   "version": "3.9.7"
  }
 },
 "nbformat": 4,
 "nbformat_minor": 5
}
