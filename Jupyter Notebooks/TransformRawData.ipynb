{
 "cells": [
  {
   "cell_type": "code",
   "execution_count": 1,
   "id": "71ec2c58",
   "metadata": {
    "ExecuteTime": {
     "end_time": "2024-06-15T19:56:57.771426Z",
     "start_time": "2024-06-15T19:56:56.940610Z"
    }
   },
   "outputs": [],
   "source": [
    "import numpy as np\n",
    "import pandas as pd\n",
    "import os\n",
    "from multiprocessing import Pool"
   ]
  },
  {
   "cell_type": "markdown",
   "id": "f4de7630",
   "metadata": {},
   "source": [
    "### Get stock name and ticker name"
   ]
  },
  {
   "cell_type": "code",
   "execution_count": 2,
   "id": "2e18312f",
   "metadata": {
    "ExecuteTime": {
     "end_time": "2024-06-15T19:56:57.787431Z",
     "start_time": "2024-06-15T19:56:57.772929Z"
    }
   },
   "outputs": [],
   "source": [
    "def get_stock_name(df):\n",
    "    stock_name = df.iloc[0, 0].split(\"|\")[0].strip()\n",
    "    ticker_name = df.iloc[3, 0].split(\".\")[0].strip()\n",
    "    return stock_name, ticker_name"
   ]
  },
  {
   "cell_type": "markdown",
   "id": "676dad32",
   "metadata": {},
   "source": [
    "### Get all the rows containing date and stock price"
   ]
  },
  {
   "cell_type": "code",
   "execution_count": 4,
   "id": "3b9782a3",
   "metadata": {
    "ExecuteTime": {
     "end_time": "2024-06-15T19:56:58.175679Z",
     "start_time": "2024-06-15T19:56:58.171403Z"
    }
   },
   "outputs": [],
   "source": [
    "def get_time_series_data(df, stock_name):\n",
    "    # Get the index where we find Exchange Date value\n",
    "    date_index = df[df.iloc[:, 0] == 'Exchange Date'].index\n",
    "\n",
    "    # Remove all the rows before exchange date\n",
    "    df = df.iloc[date_index[0]:].reset_index(drop=True)\n",
    "    df = df.iloc[:, 0:10]\n",
    "    \n",
    "    # Make the first row the header\n",
    "    df.columns = df.iloc[0]\n",
    "    df = df[1:].reset_index(drop=True)\n",
    "    \n",
    "    # Convert Exchange Date into date dtype\n",
    "    df['Exchange Date'] = pd.to_datetime(df['Exchange Date'], format=\"%Y-%m-%d %H:%M:%S\")\n",
    "    \n",
    "    # Order the time series to ascending\n",
    "    df = df.iloc[::-1].reset_index(drop=True)\n",
    "    \n",
    "    # Rename column\n",
    "    df = df[['Exchange Date', 'Close', 'Open', 'Low', 'High',\n",
    "       'Volume', 'Turnover - USD', 'Flow']]\n",
    "    # df = df.rename(columns={\"Close\": \"Stock Price\"})\n",
    "\n",
    "    # Add stock name\n",
    "    df['Stock Name'] = stock_name\n",
    "    return df"
   ]
  },
  {
   "cell_type": "markdown",
   "id": "a1b20c78",
   "metadata": {},
   "source": [
    "### Load the data and write the clean data in separate folder"
   ]
  },
  {
   "cell_type": "code",
   "execution_count": 5,
   "id": "5e96317f",
   "metadata": {
    "ExecuteTime": {
     "end_time": "2024-06-15T19:56:59.041684Z",
     "start_time": "2024-06-15T19:56:59.036683Z"
    }
   },
   "outputs": [],
   "source": [
    "# def process_excel_file(file_path):\n",
    "#     df = pd.read_excel(file_path, header=None)\n",
    "#     stock_name, ticker_name = get_stock_name(df)\n",
    "#     df_clean = get_time_series_data(df, stock_name)\n",
    "#     output_file_path = os.path.join(\"Output_Data/Processed_Data_Step1\", f\"{stock_name}.csv\")\n",
    "#     df_clean.to_csv(output_file_path, index=False)\n",
    "#     return df\n",
    "\n",
    "# def read_excel_files_from_directory(directory):\n",
    "#     # List all files in the directory\n",
    "#     files = os.listdir(directory)\n",
    "    \n",
    "#     # Filter the list to include only Excel files\n",
    "#     excel_files = [file for file in files if file.endswith('.xls') or file.endswith('.xlsx')]\n",
    "    \n",
    "#     # Create the full file paths\n",
    "#     excel_file_paths = [os.path.join(directory, file) for file in excel_files]\n",
    "    \n",
    "#     # Use multiprocessing Pool to process files in parallel\n",
    "#     with Pool() as pool:\n",
    "#         dataframes = pool.map(process_excel_file, excel_file_paths)\n",
    "    \n",
    "#     return dataframes\n",
    "\n",
    "\n",
    "# # Example usage\n",
    "# directory = 'Input_Data'  # Replace with your directory path\n",
    "# all_dataframes = read_excel_files_from_directory(directory)\n",
    "\n",
    "# # Optional: Do something with all_dataframes if needed\n",
    "# print(all_dataframes)"
   ]
  },
  {
   "cell_type": "code",
   "execution_count": 7,
   "id": "a4232fc2",
   "metadata": {
    "ExecuteTime": {
     "end_time": "2024-06-15T19:57:00.465527Z",
     "start_time": "2024-06-15T19:56:59.396882Z"
    },
    "scrolled": true
   },
   "outputs": [],
   "source": [
    "def read_excel_files_from_directory(directory):\n",
    "    # List all files in the directory\n",
    "    files = os.listdir(directory)\n",
    "    \n",
    "    # Filter the list to include only Excel files\n",
    "    excel_files = [file for file in files if file.endswith('.xls') or file.endswith('.xlsx')]\n",
    "    \n",
    "    # Initialize a list to store DataFrames\n",
    "    dataframes = []\n",
    "    \n",
    "    # Read each Excel file into a pandas DataFrame\n",
    "    for file in excel_files:\n",
    "        file_path = os.path.join(directory, file)\n",
    "        df = pd.read_excel(file_path, header=None)\n",
    "        stock_name, ticker_name = get_stock_name(df)\n",
    "        df_clean = get_time_series_data(df, stock_name)\n",
    "        df_clean.to_csv(f\"../Input_Data/Processed_Files_Step1/{stock_name}.csv\",index=False)\n",
    "        dataframes.append(df_clean)\n",
    "        \n",
    "    return dataframes\n",
    "\n",
    "# Example usage\n",
    "directory = '../Input_Data/Raw_Files'  # Replace with your directory path\n",
    "all_dataframes = read_excel_files_from_directory(directory)"
   ]
  },
  {
   "cell_type": "code",
   "execution_count": 8,
   "id": "25f2abb3",
   "metadata": {
    "ExecuteTime": {
     "end_time": "2024-06-04T16:21:40.497288Z",
     "start_time": "2024-06-04T16:21:40.445420Z"
    }
   },
   "outputs": [
    {
     "data": {
      "text/html": [
       "<div>\n",
       "<style scoped>\n",
       "    .dataframe tbody tr th:only-of-type {\n",
       "        vertical-align: middle;\n",
       "    }\n",
       "\n",
       "    .dataframe tbody tr th {\n",
       "        vertical-align: top;\n",
       "    }\n",
       "\n",
       "    .dataframe thead th {\n",
       "        text-align: right;\n",
       "    }\n",
       "</style>\n",
       "<table border=\"1\" class=\"dataframe\">\n",
       "  <thead>\n",
       "    <tr style=\"text-align: right;\">\n",
       "      <th></th>\n",
       "      <th>Exchange Date</th>\n",
       "      <th>Close</th>\n",
       "      <th>Open</th>\n",
       "      <th>Low</th>\n",
       "      <th>High</th>\n",
       "      <th>Volume</th>\n",
       "      <th>Turnover - USD</th>\n",
       "      <th>Flow</th>\n",
       "      <th>Stock Name</th>\n",
       "    </tr>\n",
       "  </thead>\n",
       "  <tbody>\n",
       "    <tr>\n",
       "      <th>0</th>\n",
       "      <td>2008-01-02</td>\n",
       "      <td>17.146366</td>\n",
       "      <td>17.338552</td>\n",
       "      <td>16.959685</td>\n",
       "      <td>17.451161</td>\n",
       "      <td>86136960</td>\n",
       "      <td>NaN</td>\n",
       "      <td>0</td>\n",
       "      <td>Alphabet Inc</td>\n",
       "    </tr>\n",
       "    <tr>\n",
       "      <th>1</th>\n",
       "      <td>2008-01-03</td>\n",
       "      <td>17.149869</td>\n",
       "      <td>17.148118</td>\n",
       "      <td>16.929406</td>\n",
       "      <td>17.187906</td>\n",
       "      <td>65056920</td>\n",
       "      <td>NaN</td>\n",
       "      <td>0</td>\n",
       "      <td>Alphabet Inc</td>\n",
       "    </tr>\n",
       "    <tr>\n",
       "      <th>2</th>\n",
       "      <td>2008-01-04</td>\n",
       "      <td>16.440932</td>\n",
       "      <td>17.008732</td>\n",
       "      <td>16.390884</td>\n",
       "      <td>17.040513</td>\n",
       "      <td>107218180</td>\n",
       "      <td>NaN</td>\n",
       "      <td>0</td>\n",
       "      <td>Alphabet Inc</td>\n",
       "    </tr>\n",
       "    <tr>\n",
       "      <th>3</th>\n",
       "      <td>2008-01-07</td>\n",
       "      <td>16.246994</td>\n",
       "      <td>16.364358</td>\n",
       "      <td>15.949206</td>\n",
       "      <td>16.57306</td>\n",
       "      <td>128098900</td>\n",
       "      <td>NaN</td>\n",
       "      <td>0</td>\n",
       "      <td>Alphabet Inc</td>\n",
       "    </tr>\n",
       "    <tr>\n",
       "      <th>4</th>\n",
       "      <td>2008-01-08</td>\n",
       "      <td>15.807316</td>\n",
       "      <td>16.340835</td>\n",
       "      <td>15.790302</td>\n",
       "      <td>16.515004</td>\n",
       "      <td>106838980</td>\n",
       "      <td>NaN</td>\n",
       "      <td>0</td>\n",
       "      <td>Alphabet Inc</td>\n",
       "    </tr>\n",
       "    <tr>\n",
       "      <th>...</th>\n",
       "      <td>...</td>\n",
       "      <td>...</td>\n",
       "      <td>...</td>\n",
       "      <td>...</td>\n",
       "      <td>...</td>\n",
       "      <td>...</td>\n",
       "      <td>...</td>\n",
       "      <td>...</td>\n",
       "      <td>...</td>\n",
       "    </tr>\n",
       "    <tr>\n",
       "      <th>84880</th>\n",
       "      <td>2024-03-22</td>\n",
       "      <td>114.61</td>\n",
       "      <td>114.65</td>\n",
       "      <td>112.4</td>\n",
       "      <td>115.23</td>\n",
       "      <td>2236828</td>\n",
       "      <td>254948735</td>\n",
       "      <td>34087742396.788601</td>\n",
       "      <td>Enphase Energy Inc</td>\n",
       "    </tr>\n",
       "    <tr>\n",
       "      <th>84881</th>\n",
       "      <td>2024-03-25</td>\n",
       "      <td>111.05</td>\n",
       "      <td>114.01</td>\n",
       "      <td>110.945</td>\n",
       "      <td>116.31</td>\n",
       "      <td>2802683</td>\n",
       "      <td>313816711</td>\n",
       "      <td>33773925685.788601</td>\n",
       "      <td>Enphase Energy Inc</td>\n",
       "    </tr>\n",
       "    <tr>\n",
       "      <th>84882</th>\n",
       "      <td>2024-03-26</td>\n",
       "      <td>109.35</td>\n",
       "      <td>112.73</td>\n",
       "      <td>109.25</td>\n",
       "      <td>113.45</td>\n",
       "      <td>2551274</td>\n",
       "      <td>282313553</td>\n",
       "      <td>33491612132.788601</td>\n",
       "      <td>Enphase Energy Inc</td>\n",
       "    </tr>\n",
       "    <tr>\n",
       "      <th>84883</th>\n",
       "      <td>2024-03-27</td>\n",
       "      <td>119.8</td>\n",
       "      <td>110.7</td>\n",
       "      <td>110.7</td>\n",
       "      <td>120.08</td>\n",
       "      <td>4947099</td>\n",
       "      <td>581638740</td>\n",
       "      <td>34073250872.788601</td>\n",
       "      <td>Enphase Energy Inc</td>\n",
       "    </tr>\n",
       "    <tr>\n",
       "      <th>84884</th>\n",
       "      <td>2024-03-28</td>\n",
       "      <td>120.98</td>\n",
       "      <td>119.7</td>\n",
       "      <td>119.395</td>\n",
       "      <td>124.4</td>\n",
       "      <td>2968703</td>\n",
       "      <td>358838233</td>\n",
       "      <td>34432089105.788597</td>\n",
       "      <td>Enphase Energy Inc</td>\n",
       "    </tr>\n",
       "  </tbody>\n",
       "</table>\n",
       "<p>84885 rows × 9 columns</p>\n",
       "</div>"
      ],
      "text/plain": [
       "0     Exchange Date      Close       Open        Low       High     Volume  \\\n",
       "0        2008-01-02  17.146366  17.338552  16.959685  17.451161   86136960   \n",
       "1        2008-01-03  17.149869  17.148118  16.929406  17.187906   65056920   \n",
       "2        2008-01-04  16.440932  17.008732  16.390884  17.040513  107218180   \n",
       "3        2008-01-07  16.246994  16.364358  15.949206   16.57306  128098900   \n",
       "4        2008-01-08  15.807316  16.340835  15.790302  16.515004  106838980   \n",
       "...             ...        ...        ...        ...        ...        ...   \n",
       "84880    2024-03-22     114.61     114.65      112.4     115.23    2236828   \n",
       "84881    2024-03-25     111.05     114.01    110.945     116.31    2802683   \n",
       "84882    2024-03-26     109.35     112.73     109.25     113.45    2551274   \n",
       "84883    2024-03-27      119.8      110.7      110.7     120.08    4947099   \n",
       "84884    2024-03-28     120.98      119.7    119.395      124.4    2968703   \n",
       "\n",
       "0     Turnover - USD                Flow          Stock Name  \n",
       "0                NaN                   0        Alphabet Inc  \n",
       "1                NaN                   0        Alphabet Inc  \n",
       "2                NaN                   0        Alphabet Inc  \n",
       "3                NaN                   0        Alphabet Inc  \n",
       "4                NaN                   0        Alphabet Inc  \n",
       "...              ...                 ...                 ...  \n",
       "84880      254948735  34087742396.788601  Enphase Energy Inc  \n",
       "84881      313816711  33773925685.788601  Enphase Energy Inc  \n",
       "84882      282313553  33491612132.788601  Enphase Energy Inc  \n",
       "84883      581638740  34073250872.788601  Enphase Energy Inc  \n",
       "84884      358838233  34432089105.788597  Enphase Energy Inc  \n",
       "\n",
       "[84885 rows x 9 columns]"
      ]
     },
     "metadata": {},
     "output_type": "display_data"
    }
   ],
   "source": [
    "# Optionally, combine all DataFrames into a single DataFrame\n",
    "combined_df = pd.concat(all_dataframes, ignore_index=True)\n",
    "\n",
    "display(combined_df)"
   ]
  },
  {
   "cell_type": "code",
   "execution_count": 10,
   "id": "dff5f939-35de-4f28-950e-8f0ec70514dd",
   "metadata": {},
   "outputs": [],
   "source": [
    "combined_df.to_csv(\"../Output_Data/cleaned_data.csv\", index=False)"
   ]
  },
  {
   "cell_type": "code",
   "execution_count": null,
   "id": "8bea127c-764e-4b4f-84f2-09a924b0f1e5",
   "metadata": {},
   "outputs": [],
   "source": []
  }
 ],
 "metadata": {
  "kernelspec": {
   "display_name": "Python 3 (ipykernel)",
   "language": "python",
   "name": "python3"
  },
  "language_info": {
   "codemirror_mode": {
    "name": "ipython",
    "version": 3
   },
   "file_extension": ".py",
   "mimetype": "text/x-python",
   "name": "python",
   "nbconvert_exporter": "python",
   "pygments_lexer": "ipython3",
   "version": "3.11.7"
  }
 },
 "nbformat": 4,
 "nbformat_minor": 5
}
